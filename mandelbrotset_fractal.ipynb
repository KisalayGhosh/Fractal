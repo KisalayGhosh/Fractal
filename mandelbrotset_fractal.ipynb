{
  "nbformat": 4,
  "nbformat_minor": 0,
  "metadata": {
    "colab": {
      "provenance": []
    },
    "kernelspec": {
      "name": "python3",
      "display_name": "Python 3"
    },
    "language_info": {
      "name": "python"
    }
  },
  "cells": [
    {
      "cell_type": "code",
      "execution_count": 6,
      "metadata": {
        "id": "4TfuHT5CF0VG"
      },
      "outputs": [],
      "source": [
        "from PIL import Image, ImageDraw\n",
        "\n",
        "\n",
        "wd = 512\n",
        "ht = 512\n",
        "image = Image.new('RGB', (wd,ht), (255,255,255))\n",
        "draw = ImageDraw.Draw(image)\n",
        "\n",
        "\n",
        "\n",
        "lex = -3.0\n",
        "bx = 3.0\n",
        "ley = -3.0\n",
        "by = 3.0\n",
        "\n",
        "maxiter = 300\n",
        "frame=1\n",
        "for x in range(wd):\n",
        "\tfor y in range(ht):\n",
        "\t\t\n",
        "\t\t\n",
        "\t\ta = (x-0)*((bx-lex)/(wd-0)) + lex\n",
        "\t\tb = (y-0)*((by-ley)/(ht-0)) + ley\n",
        "\n",
        "\t\tc = complex(a,b) \n",
        "\t\tz = 0\n",
        "\t\titer = 0\n",
        "\n",
        "\t\twhile abs(z)<=2 and iter<maxiter:\n",
        "\t\t\tz = z*z + c\n",
        "\t\t\titer+=1\n",
        "\n",
        "\t\tcolor = 255 - int(iter * 255 / maxiter)\n",
        "\t\tdraw.point([x, y], (color,color,color))\n",
        "\t\t\n",
        "\n",
        "image.save(\"mandelbrotset_%d.png\", \"PNG\")"
      ]
    }
  ]
}