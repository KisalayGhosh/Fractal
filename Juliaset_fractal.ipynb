{
  "nbformat": 4,
  "nbformat_minor": 0,
  "metadata": {
    "colab": {
      "provenance": []
    },
    "kernelspec": {
      "name": "python3",
      "display_name": "Python 3"
    },
    "language_info": {
      "name": "python"
    }
  },
  "cells": [
    {
      "cell_type": "code",
      "execution_count": 3,
      "metadata": {
        "id": "4TfuHT5CF0VG"
      },
      "outputs": [],
      "source": [
        "from PIL import Image, ImageDraw\n",
        "import numpy as np\n",
        "import math\n",
        "\n",
        "\n",
        "wd = 512\n",
        "ht = 512\n",
        "\n",
        "\n",
        "image = Image.new('RGB', (wd,ht), (255,255,255))\n",
        "draw = ImageDraw.Draw(image)\n",
        "\n",
        "lex = -3.0\n",
        "bx = 3.0\n",
        "ley = -3.0\n",
        "by = 3.0\n",
        "\n",
        "maxiter = 300\n",
        "\n",
        "frame = 1\n",
        "\n",
        "for angle in np.arange(0.0, 2*math.pi, 0.25*math.pi):\n",
        "\n",
        "\tfor x in range(wd):\n",
        "\t\tfor y in range(ht):\n",
        "\t\t\n",
        "\t\t\t\n",
        "\t\t\ta = (x-0)*((bx-lex)/(wd-0)) + lx\n",
        "\t\t\tb = (y-0)*((by-ley)/(ht-0)) + ly\n",
        "\n",
        "\t\t\tz = complex(a,b) \n",
        "\t\t\tc = complex(-1.0 + 0.3*math.sin(angle),0.3*math.cos(angle))\n",
        "\t\t\titer = 0\n",
        "\n",
        "\t\t\twhile abs(z)<=2 and iter<maxiter:\n",
        "\t\t\t\tz = z*z + c\n",
        "\t\t\t\titer+=1\n",
        "\n",
        "\t\t\tcolor = 255 - int(iter * 255 / maxiter)\n",
        "\t\t\tdraw.point([x, y], (color,color,color))\n",
        "\t\t\t\n",
        "\n",
        "\timage.save(\"juliaset_%d.png\"%frame, \"PNG\")\n",
        "\tframe = frame+1\n",
        "\n",
        "\n"
      ]
    }
  ]
}